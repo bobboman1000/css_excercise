{
 "cells": [
  {
   "cell_type": "code",
   "execution_count": 49,
   "metadata": {
    "pycharm": {
     "name": "#%%\n"
    }
   },
   "outputs": [],
   "source": [
    "import seaborn as sns\n",
    "import numpy as np\n",
    "from matplotlib import pyplot as plt\n",
    "from sklearn.dummy import DummyClassifier\n",
    "from sklearn.ensemble import RandomForestClassifier, AdaBoostClassifier\n",
    "from sklearn.metrics import f1_score, accuracy_score\n",
    "from sklearn.model_selection import RandomizedSearchCV, RepeatedStratifiedKFold, GridSearchCV\n",
    "from sklearn.preprocessing import StandardScaler\n",
    "import sklearn2pmml as pmml\n",
    "from sklearn.svm import SVC\n",
    "from sklearn.tree import DecisionTreeClassifier\n",
    "from sklearn_porter import Porter                   # Custom - edited to work with python3.9\n",
    "import pandas as pd\n",
    "from pathlib import Path\n",
    "from functools import reduce\n",
    "\n",
    "from exploration_helper import time_frame_optimization, build_resampled_df"
   ]
  },
  {
   "cell_type": "markdown",
   "metadata": {
    "pycharm": {
     "name": "#%% md\n"
    }
   },
   "source": [
    "# Kontextsensitive Systeme - Modellfindung\n",
    "\n",
    "Im folgenden wird der Data-Science Prozess zur Modellfindung für das KSS Projekt durchgeführt.\n",
    "\n",
    "Die Schritte hierzu umfassen:\n",
    "- *Resampling*\n",
    "- *Feature Engineering & Feature Importance Ranking*\n",
    "- *Evaluation & Hyperparameteroptimierung der Classifier*\n",
    "- *Evaluation von Klassifikationsmodellen*\n",
    "\n",
    "Zunächst werden die einzelnen Schritt detailliert anhand von Decision Trees untersucht. Im Anschluss erfolgt eine  weniger detaillierte Evaluation verschiedener Modelle inkl. Parameter-Optimierung. Dies weicht natürlich leicht von der best practice Methode ab, da *alle* Schritte mit allen Modellen gegeneinander evaluiert werden könnten. Dies sprengt jedoch den Rahmen dieser Arbeit."
   ]
  },
  {
   "cell_type": "markdown",
   "source": [
    "### Random State\n",
    "\n",
    "Wir beginnen mit dem Erstellen eines Random States um die Ergebnisse reproduizierbar zu machen."
   ],
   "metadata": {
    "collapsed": false,
    "pycharm": {
     "name": "#%% md\n"
    }
   }
  },
  {
   "cell_type": "code",
   "execution_count": 81,
   "outputs": [],
   "source": [
    "state = np.random.RandomState(seed=6517619) # Decimal Representation of UTF encoded \"CSS\" :)"
   ],
   "metadata": {
    "collapsed": false,
    "pycharm": {
     "name": "#%%\n"
    }
   }
  },
  {
   "cell_type": "markdown",
   "metadata": {
    "pycharm": {
     "name": "#%% md\n"
    }
   },
   "source": [
    "## Data Cleaning/Preparation\n",
    "\n",
    "Als nächstes werden die Daten aus .csv Dateien importiert und in eine entsprechende Form in einem pd.DataFrame gebracht. Es ergeben sich 6 Spalten an Sensordaten. Es werden Daten zu Orientierung und Beschleunigung verwendet."
   ]
  },
  {
   "cell_type": "code",
   "execution_count": 82,
   "metadata": {
    "pycharm": {
     "name": "#%%\n"
    }
   },
   "outputs": [],
   "source": [
    "dfs = []\n",
    "filenames = {\n",
    "    \"Accelerometer.csv\": {\n",
    "        \"z\": \"acc_z\", \n",
    "        \"y\": \"acc_y\", \n",
    "        \"x\": \"acc_x\", \n",
    "        \"time\": \"time\", \n",
    "        \"seconds_elapsed\": \n",
    "        \"seconds_elapsed\"\n",
    "    },\n",
    "    \"Orientation.csv\": {\n",
    "        \"yaw\": \"alpha\",\n",
    "        \"roll\": \"gamma\",\n",
    "        \"pitch\": \"beta\"}\n",
    "}"
   ]
  },
  {
   "cell_type": "code",
   "execution_count": 83,
   "metadata": {
    "pycharm": {
     "name": "#%%\n"
    }
   },
   "outputs": [],
   "source": [
    "# Funktion zum lesen der .csv Dateien und umbenennen der Spalten nach Mappern s.o.\n",
    "read = lambda file: pd \\\n",
    "                .read_csv(file, sep=\",\", header=0, parse_dates=True, infer_datetime_format=True)\\\n",
    "                .rename(columns=filenames[file.name])"
   ]
  },
  {
   "cell_type": "code",
   "execution_count": 100,
   "metadata": {
    "pycharm": {
     "name": "#%%\n"
    }
   },
   "outputs": [
    {
     "name": "stdout",
     "output_type": "stream",
     "text": [
      "Reading data/running-2022-02-02_16-21-13\n",
      "Reading data/walking-2022-02-02_16-18-54\n",
      "Reading data/walking_hand-2022-02-02_16-13-07\n",
      "Reading data/walking-2022-02-02_16-23-01\n",
      "Reading data/walking-2022-02-02_16-10-08\n",
      "Reading data/pausing-2022-02-03_12-47-38\n",
      "Reading data/running-2022-02-02_16-14-33\n"
     ]
    }
   ],
   "source": [
    "# Aggregieren der dfs zu einem df\n",
    "for folder in Path(\"data\").iterdir():\n",
    "    if folder.name.startswith(\".\"):\n",
    "        continue\n",
    "    print(\"Reading\", folder)\n",
    "    session_dfs = [read(file) for file in folder.iterdir() if file.name in filenames]\n",
    "    label = open(folder.joinpath(\"label.txt\"), \"r\").readlines()[0]\n",
    "    joint_session_df = reduce(lambda a, b: pd.merge(a, b, on=[\"time\", \"seconds_elapsed\"]), session_dfs)\n",
    "    joint_session_df.insert(0, \"activity\", label)\n",
    "    dfs.append(joint_session_df)\n",
    "\n",
    "db = reduce(lambda a, b: a.append(b), dfs)"
   ]
  },
  {
   "cell_type": "code",
   "execution_count": 85,
   "metadata": {
    "pycharm": {
     "name": "#%%\n"
    }
   },
   "outputs": [],
   "source": [
    "# Entfernen von überflüssigen Spalten\n",
    "db[\"time\"] = pd.to_datetime(db[\"time\"])\n",
    "db = db.set_index([\"time\"])\n",
    "db = db.drop(\"seconds_elapsed\", axis=1)"
   ]
  },
  {
   "cell_type": "code",
   "execution_count": 86,
   "metadata": {
    "pycharm": {
     "name": "#%%\n"
    }
   },
   "outputs": [],
   "source": [
    "# Class mapping;\n",
    "classes = {\"pausing\": 0, \"running\": 1}\n",
    "\n",
    "# Entferne Quartenionen-Darstellung, da nicht (ohne weiteres) verfügbar im Browser\n",
    "db_cleaned = db.drop([\"qx\", \"qy\", \"qz\", \"qw\"], axis=1)\n",
    "db_cleaned[\"activity\"] = db[\"activity\"].apply(lambda x: classes[x])"
   ]
  },
  {
   "cell_type": "markdown",
   "metadata": {
    "pycharm": {
     "name": "#%% md\n"
    }
   },
   "source": [
    "**Der finale DataFrame mit \"activity\" als target sieht als aus wie folgt**"
   ]
  },
  {
   "cell_type": "code",
   "execution_count": 87,
   "metadata": {
    "pycharm": {
     "name": "#%%\n"
    }
   },
   "outputs": [
    {
     "data": {
      "text/plain": "                               activity     alpha     gamma      beta  \\\ntime                                                                    \n2022-02-02 15:21:13.909253000         1 -2.033771  0.130994  0.336905   \n2022-02-02 15:21:14.009160200         1 -2.020111  0.270677  0.487375   \n2022-02-02 15:21:14.109067300         1 -1.923151  0.403944  0.643670   \n2022-02-02 15:21:14.208974000         1 -1.767503  0.578782  0.706169   \n2022-02-02 15:21:14.308881200         1 -1.693327  0.681624  0.805902   \n2022-02-02 15:21:14.408788000         1 -1.579551  0.739941  0.766680   \n2022-02-02 15:21:14.508694000         1 -1.437475  0.781497  0.682150   \n2022-02-02 15:21:14.608601000         1 -1.468877  1.151474  0.697441   \n2022-02-02 15:21:14.708508000         1 -1.345581  1.323490  0.857846   \n2022-02-02 15:21:14.808415000         1 -1.065544  1.299165  1.117783   \n\n                                  acc_z     acc_y     acc_x  \ntime                                                         \n2022-02-02 15:21:13.909253000 -0.630153  0.706151 -0.842766  \n2022-02-02 15:21:14.009160200  2.053477 -0.011665 -1.820781  \n2022-02-02 15:21:14.109067300  1.066186  1.520387 -1.365054  \n2022-02-02 15:21:14.208974000 -1.411229 -2.124124  1.525786  \n2022-02-02 15:21:14.308881200 -0.284351 -2.943029  4.360647  \n2022-02-02 15:21:14.408788000 -0.160599  0.745414  0.869923  \n2022-02-02 15:21:14.508694000  1.573859  3.380768 -0.898143  \n2022-02-02 15:21:14.608601000  1.938818 -2.674917  1.620770  \n2022-02-02 15:21:14.708508000  3.087629 -2.298619  5.652280  \n2022-02-02 15:21:14.808415000 -1.187539  1.051435  3.930399  ",
      "text/html": "<div>\n<style scoped>\n    .dataframe tbody tr th:only-of-type {\n        vertical-align: middle;\n    }\n\n    .dataframe tbody tr th {\n        vertical-align: top;\n    }\n\n    .dataframe thead th {\n        text-align: right;\n    }\n</style>\n<table border=\"1\" class=\"dataframe\">\n  <thead>\n    <tr style=\"text-align: right;\">\n      <th></th>\n      <th>activity</th>\n      <th>alpha</th>\n      <th>gamma</th>\n      <th>beta</th>\n      <th>acc_z</th>\n      <th>acc_y</th>\n      <th>acc_x</th>\n    </tr>\n    <tr>\n      <th>time</th>\n      <th></th>\n      <th></th>\n      <th></th>\n      <th></th>\n      <th></th>\n      <th></th>\n      <th></th>\n    </tr>\n  </thead>\n  <tbody>\n    <tr>\n      <th>2022-02-02 15:21:13.909253000</th>\n      <td>1</td>\n      <td>-2.033771</td>\n      <td>0.130994</td>\n      <td>0.336905</td>\n      <td>-0.630153</td>\n      <td>0.706151</td>\n      <td>-0.842766</td>\n    </tr>\n    <tr>\n      <th>2022-02-02 15:21:14.009160200</th>\n      <td>1</td>\n      <td>-2.020111</td>\n      <td>0.270677</td>\n      <td>0.487375</td>\n      <td>2.053477</td>\n      <td>-0.011665</td>\n      <td>-1.820781</td>\n    </tr>\n    <tr>\n      <th>2022-02-02 15:21:14.109067300</th>\n      <td>1</td>\n      <td>-1.923151</td>\n      <td>0.403944</td>\n      <td>0.643670</td>\n      <td>1.066186</td>\n      <td>1.520387</td>\n      <td>-1.365054</td>\n    </tr>\n    <tr>\n      <th>2022-02-02 15:21:14.208974000</th>\n      <td>1</td>\n      <td>-1.767503</td>\n      <td>0.578782</td>\n      <td>0.706169</td>\n      <td>-1.411229</td>\n      <td>-2.124124</td>\n      <td>1.525786</td>\n    </tr>\n    <tr>\n      <th>2022-02-02 15:21:14.308881200</th>\n      <td>1</td>\n      <td>-1.693327</td>\n      <td>0.681624</td>\n      <td>0.805902</td>\n      <td>-0.284351</td>\n      <td>-2.943029</td>\n      <td>4.360647</td>\n    </tr>\n    <tr>\n      <th>2022-02-02 15:21:14.408788000</th>\n      <td>1</td>\n      <td>-1.579551</td>\n      <td>0.739941</td>\n      <td>0.766680</td>\n      <td>-0.160599</td>\n      <td>0.745414</td>\n      <td>0.869923</td>\n    </tr>\n    <tr>\n      <th>2022-02-02 15:21:14.508694000</th>\n      <td>1</td>\n      <td>-1.437475</td>\n      <td>0.781497</td>\n      <td>0.682150</td>\n      <td>1.573859</td>\n      <td>3.380768</td>\n      <td>-0.898143</td>\n    </tr>\n    <tr>\n      <th>2022-02-02 15:21:14.608601000</th>\n      <td>1</td>\n      <td>-1.468877</td>\n      <td>1.151474</td>\n      <td>0.697441</td>\n      <td>1.938818</td>\n      <td>-2.674917</td>\n      <td>1.620770</td>\n    </tr>\n    <tr>\n      <th>2022-02-02 15:21:14.708508000</th>\n      <td>1</td>\n      <td>-1.345581</td>\n      <td>1.323490</td>\n      <td>0.857846</td>\n      <td>3.087629</td>\n      <td>-2.298619</td>\n      <td>5.652280</td>\n    </tr>\n    <tr>\n      <th>2022-02-02 15:21:14.808415000</th>\n      <td>1</td>\n      <td>-1.065544</td>\n      <td>1.299165</td>\n      <td>1.117783</td>\n      <td>-1.187539</td>\n      <td>1.051435</td>\n      <td>3.930399</td>\n    </tr>\n  </tbody>\n</table>\n</div>"
     },
     "execution_count": 87,
     "metadata": {},
     "output_type": "execute_result"
    }
   ],
   "source": [
    "db_cleaned.head(10)"
   ]
  },
  {
   "cell_type": "code",
   "execution_count": 88,
   "outputs": [
    {
     "data": {
      "text/plain": "          activity        alpha        gamma         beta        acc_z  \\\ncount  7602.000000  7602.000000  7602.000000  7602.000000  7602.000000   \nmean      0.685083     0.072862     0.562862    -0.507144    -0.051726   \nstd       0.464513     1.642563     1.440094     0.908706     5.964533   \nmin       0.000000    -3.139352    -3.128817    -1.562032   -50.118665   \n25%       0.000000    -1.370323    -0.695914    -1.274529    -1.681740   \n50%       1.000000     0.192722     1.130581    -0.937540    -0.055578   \n75%       1.000000     1.455857     1.732150     0.198692     1.295951   \nmax       1.000000     3.141416     3.140320     1.566586    75.023894   \n\n             acc_y        acc_x  \ncount  7602.000000  7602.000000  \nmean      0.926428     0.165966  \nstd       6.387426     8.165211  \nmin     -23.201862   -29.673974  \n25%      -1.163179    -3.517932  \n50%       0.004212     0.001933  \n75%       1.932148     1.813757  \nmax      70.529365    71.919597  ",
      "text/html": "<div>\n<style scoped>\n    .dataframe tbody tr th:only-of-type {\n        vertical-align: middle;\n    }\n\n    .dataframe tbody tr th {\n        vertical-align: top;\n    }\n\n    .dataframe thead th {\n        text-align: right;\n    }\n</style>\n<table border=\"1\" class=\"dataframe\">\n  <thead>\n    <tr style=\"text-align: right;\">\n      <th></th>\n      <th>activity</th>\n      <th>alpha</th>\n      <th>gamma</th>\n      <th>beta</th>\n      <th>acc_z</th>\n      <th>acc_y</th>\n      <th>acc_x</th>\n    </tr>\n  </thead>\n  <tbody>\n    <tr>\n      <th>count</th>\n      <td>7602.000000</td>\n      <td>7602.000000</td>\n      <td>7602.000000</td>\n      <td>7602.000000</td>\n      <td>7602.000000</td>\n      <td>7602.000000</td>\n      <td>7602.000000</td>\n    </tr>\n    <tr>\n      <th>mean</th>\n      <td>0.685083</td>\n      <td>0.072862</td>\n      <td>0.562862</td>\n      <td>-0.507144</td>\n      <td>-0.051726</td>\n      <td>0.926428</td>\n      <td>0.165966</td>\n    </tr>\n    <tr>\n      <th>std</th>\n      <td>0.464513</td>\n      <td>1.642563</td>\n      <td>1.440094</td>\n      <td>0.908706</td>\n      <td>5.964533</td>\n      <td>6.387426</td>\n      <td>8.165211</td>\n    </tr>\n    <tr>\n      <th>min</th>\n      <td>0.000000</td>\n      <td>-3.139352</td>\n      <td>-3.128817</td>\n      <td>-1.562032</td>\n      <td>-50.118665</td>\n      <td>-23.201862</td>\n      <td>-29.673974</td>\n    </tr>\n    <tr>\n      <th>25%</th>\n      <td>0.000000</td>\n      <td>-1.370323</td>\n      <td>-0.695914</td>\n      <td>-1.274529</td>\n      <td>-1.681740</td>\n      <td>-1.163179</td>\n      <td>-3.517932</td>\n    </tr>\n    <tr>\n      <th>50%</th>\n      <td>1.000000</td>\n      <td>0.192722</td>\n      <td>1.130581</td>\n      <td>-0.937540</td>\n      <td>-0.055578</td>\n      <td>0.004212</td>\n      <td>0.001933</td>\n    </tr>\n    <tr>\n      <th>75%</th>\n      <td>1.000000</td>\n      <td>1.455857</td>\n      <td>1.732150</td>\n      <td>0.198692</td>\n      <td>1.295951</td>\n      <td>1.932148</td>\n      <td>1.813757</td>\n    </tr>\n    <tr>\n      <th>max</th>\n      <td>1.000000</td>\n      <td>3.141416</td>\n      <td>3.140320</td>\n      <td>1.566586</td>\n      <td>75.023894</td>\n      <td>70.529365</td>\n      <td>71.919597</td>\n    </tr>\n  </tbody>\n</table>\n</div>"
     },
     "execution_count": 88,
     "metadata": {},
     "output_type": "execute_result"
    }
   ],
   "source": [
    "db_cleaned.describe()"
   ],
   "metadata": {
    "collapsed": false,
    "pycharm": {
     "name": "#%%\n"
    }
   }
  },
  {
   "cell_type": "markdown",
   "metadata": {
    "pycharm": {
     "name": "#%% md\n"
    }
   },
   "source": [
    "## Feature Engineering\n",
    "\n",
    "Der folgende Abschnitt behandelt feature engineering. Auf die Sensordaten werden verschiedene Aggregationsfunktionen angewendet: *[Summe, Arithm. Mittel, Varianz, Minimum, Maximum]*.\n",
    "Gleichzeitig, wird zur Optimierung eine Reihe von möglichen Timeframes herangezogen."
   ]
  },
  {
   "cell_type": "markdown",
   "source": [
    "### Resampling\n",
    "\n",
    "Das Sampling wurde aus technischen Gründen für alle features 10 Samples/s vorgenommen. Hier folgt ein resampling zur Optimimierung der Aktivitätserkenung. Die Frequenzen zum resampling finden sich unten."
   ],
   "metadata": {
    "collapsed": false,
    "pycharm": {
     "name": "#%% md\n"
    }
   }
  },
  {
   "cell_type": "markdown",
   "source": [
    "### Ergebnisse des Resampling\n",
    "\n",
    "Die verschiedenen Timeframes wurden in 200ms Schritten erhöht (ab 1000ms in 500ms)."
   ],
   "metadata": {
    "collapsed": false,
    "pycharm": {
     "name": "#%% md\n"
    }
   }
  },
  {
   "cell_type": "code",
   "execution_count": 89,
   "metadata": {
    "pycharm": {
     "name": "#%%\n"
    }
   },
   "outputs": [
    {
     "data": {
      "text/plain": "Text(0.5, 1.0, 'Accuracy')"
     },
     "execution_count": 89,
     "metadata": {},
     "output_type": "execute_result"
    },
    {
     "data": {
      "text/plain": "<Figure size 432x288 with 1 Axes>",
      "image/png": "[encoded data removed]"
     },
     "metadata": {
      "needs_background": "light"
     },
     "output_type": "display_data"
    }
   ],
   "source": [
    "val_timeframes = [\"200ms\", \"400ms\", \"600ms\", \"800ms\", \"1000ms\", \"1500ms\", \"2000ms\", \"2500ms\", \"4000ms\"]\n",
    "\n",
    "time_frame_optimization(db_cleaned, DecisionTreeClassifier(random_state=state), val_timeframes).boxplot()\n",
    "plt.ylabel(\"Score\")\n",
    "plt.title(\"Accuracy\")"
   ]
  },
  {
   "cell_type": "code",
   "execution_count": 90,
   "metadata": {
    "pycharm": {
     "name": "#%%\n"
    }
   },
   "outputs": [
    {
     "data": {
      "text/plain": "Text(0.5, 1.0, 'F1-Score')"
     },
     "execution_count": 90,
     "metadata": {},
     "output_type": "execute_result"
    },
    {
     "data": {
      "text/plain": "<Figure size 432x288 with 1 Axes>",
      "image/png": "[encoded data removed]"
     },
     "metadata": {
      "needs_background": "light"
     },
     "output_type": "display_data"
    }
   ],
   "source": [
    "time_frame_optimization(db_cleaned, DecisionTreeClassifier(), val_timeframes, metric=f1_score).boxplot()\n",
    "plt.ylabel(\"Score\")\n",
    "plt.title(\"F1-Score\")"
   ]
  },
  {
   "cell_type": "markdown",
   "source": [
    "### Feature Importance\n",
    "\n",
    "Als nächstes ein kurzer Einblick in die importance der verschiedenen features.\n",
    "\n",
    "Dazu betrachten wir das absolute, standardisierte Verbesserung des Gini Koeffizienten durch das entspr. feature (Gini Importance)."
   ],
   "metadata": {
    "collapsed": false,
    "pycharm": {
     "name": "#%% md\n"
    }
   }
  },
  {
   "cell_type": "code",
   "execution_count": 91,
   "outputs": [
    {
     "data": {
      "text/plain": "<AxesSubplot:>"
     },
     "execution_count": 91,
     "metadata": {},
     "output_type": "execute_result"
    },
    {
     "data": {
      "text/plain": "<Figure size 432x288 with 1 Axes>",
      "image/png": "[encoded data removed]"
     },
     "metadata": {
      "needs_background": "light"
     },
     "output_type": "display_data"
    }
   ],
   "source": [
    "from exploration_helper import evaluate_feature_importance, time_frame_optimization\n",
    "\n",
    "X_, y_ = build_resampled_df(db_cleaned, \"600ms\")\n",
    "y_np = np.asarray(y_)\n",
    "\n",
    "\n",
    "dt = DecisionTreeClassifier(random_state=state)\n",
    "\n",
    "trimmed_feature_importance, trimmed_features = evaluate_feature_importance(dt, 0.01, X_, y_, random_state=state) #  0.01 seems to be a good value, formal evaluation possible, but plotting gets a bit messy\n",
    "trimmed_feature_importance.boxplot()"
   ],
   "metadata": {
    "collapsed": false,
    "pycharm": {
     "name": "#%%\n"
    }
   }
  },
  {
   "cell_type": "code",
   "execution_count": 92,
   "outputs": [
    {
     "data": {
      "text/plain": "{'beta mean': 0.010752032965295463,\n 'acc_z var': 0.8351606851927003,\n 'acc_y var': 0.011585423707572987,\n 'acc_x var': 0.07955096327754281}"
     },
     "execution_count": 92,
     "metadata": {},
     "output_type": "execute_result"
    }
   ],
   "source": [
    "trimmed_features"
   ],
   "metadata": {
    "collapsed": false,
    "pycharm": {
     "name": "#%%\n"
    }
   }
  },
  {
   "cell_type": "code",
   "execution_count": 93,
   "outputs": [],
   "source": [
    "X_trimmed = X_[trimmed_features]"
   ],
   "metadata": {
    "collapsed": false,
    "pycharm": {
     "name": "#%%\n"
    }
   }
  },
  {
   "cell_type": "markdown",
   "source": [
    "# Klassifikation\n",
    "\n",
    "Nun werden evaluieren wir eine Reihe von verschiedenen Klassifikations-Modellen.\n",
    "Im folgenden betrachten wir\n",
    "- Support Vector Machines\n",
    "- Random Forests\n",
    "- AdaBoost (DT)\n",
    "- Decision Trees\n",
    "\n",
    "Da einige Algorithmen (insb. SVMs) distanzbasierte Verfahren sind und daher sensitiv gegenüber Skalierung sind, skalieren wir die Daten auf eine N(0,1) Verteilung (z-Score). Tree-based Algorithmen sind weniger sensitiv ggü. Skalierung, der Vergleichbarkeit wegen, werden jedoch alle Algroithmen mit den skalierten Daten arbeiten."
   ],
   "metadata": {
    "collapsed": false,
    "pycharm": {
     "name": "#%% md\n"
    }
   }
  },
  {
   "cell_type": "code",
   "source": [
    "X_scaled = StandardScaler().fit_transform(X_trimmed)"
   ],
   "metadata": {
    "collapsed": false,
    "pycharm": {
     "name": "#%%\n"
    }
   },
   "execution_count": 94,
   "outputs": []
  },
  {
   "cell_type": "markdown",
   "source": [
    "### SVM\n",
    "\n",
    "SVMs haben eine Reihe von Hyperparametern die zu optimieren sind. Dazu gehören der Fehlerterm C, die Kernelfunktion mit ihrem Varianzparameter gamma und ggf. der Poylnomgrad, sofern der Polynom-Kernel gewählt wird.\n",
    "\n",
    "Die gebrächlichsten Kernels sind der rbf, poly und sigmoid Kernel.\n",
    "\n",
    "Im folgenden werden wir diese drei Kernels evaluieren. Für C und gamma nutzen wir eine Reihe von 10er Potenzen (siehe param dict). Die Kombinationen werden in einer GridSearch mit Cross-Validation geprüft."
   ],
   "metadata": {
    "collapsed": false,
    "pycharm": {
     "name": "#%% md\n"
    }
   }
  },
  {
   "cell_type": "code",
   "source": [
    "params = {\n",
    "    'C': [0.1,1, 10, 100],\n",
    "    'gamma': [1,0.1,0.01,0.001],\n",
    "    'kernel': ['rbf', 'poly', 'sigmoid'],\n",
    "    'degree': [8]\n",
    "}\n",
    "svc = GridSearchCV(SVC(), params, refit=True, error_score=0.0, n_jobs=4)\n",
    "svc.fit(X_scaled, y_)\n",
    "best_svc =  svc.best_estimator_\n",
    "\n",
    "[print(key, \":\", svc.best_estimator_.__getattribute__(key)) for key in params]\n",
    "pass"
   ],
   "metadata": {
    "collapsed": false,
    "pycharm": {
     "name": "#%%\n"
    }
   },
   "execution_count": 95,
   "outputs": [
    {
     "name": "stdout",
     "output_type": "stream",
     "text": [
      "C : 100\n",
      "gamma : 0.01\n",
      "kernel : rbf\n",
      "degree : 8\n"
     ]
    }
   ]
  },
  {
   "cell_type": "markdown",
   "source": [
    "Für den AdaBoost Algorithmus, also DecisionTrees mit Boosting, verwenden wir eine Randomized Search für die Learning Rate. Die Learning rate gibt an, wie stark die Vorhersagen eines neues Models (Jede Runde wird ein neues Modell hinzugefügt) gewichtet wird."
   ],
   "metadata": {
    "collapsed": false,
    "pycharm": {
     "name": "#%% md\n"
    }
   }
  },
  {
   "cell_type": "code",
   "execution_count": 97,
   "outputs": [
    {
     "name": "stdout",
     "output_type": "stream",
     "text": [
      "learning rate: 0.12036086467275098\n"
     ]
    }
   ],
   "source": [
    "params = {\n",
    "    \"learning_rate\": state.uniform(0, 2, 20)\n",
    "}\n",
    "\n",
    "ada = RandomizedSearchCV(AdaBoostClassifier(), params, refit=True, error_score=0.0, n_jobs=4, random_state=state, cv=10)\n",
    "ada.fit(X_scaled, y_)\n",
    "best_ada = ada.best_estimator_\n",
    "\n",
    "print(\"learning rate:\", best_ada.__getattribute__(\"learning_rate\"))"
   ],
   "metadata": {
    "collapsed": false,
    "pycharm": {
     "name": "#%%\n"
    }
   }
  },
  {
   "cell_type": "markdown",
   "source": [
    "Nun initialisieren wir die übrigen Vergleichsalgorithmen. Hier ist eine Hyperparameteroptimierung möglich, jedoch sind sie nicht ganz so essentiell wie bei SVC.\n",
    "Als Baseline fügen wir noch einen Dummy classifier hinzu, der immer die häufigste Klasse im sample voraussagt."
   ],
   "metadata": {
    "collapsed": false,
    "pycharm": {
     "name": "#%% md\n"
    }
   }
  },
  {
   "cell_type": "code",
   "source": [
    "rf = RandomForestClassifier(random_state=state)\n",
    "\n",
    "dt = DecisionTreeClassifier(random_state=state)\n",
    "\n",
    "major_class = DummyClassifier(random_state=state)"
   ],
   "metadata": {
    "collapsed": false,
    "pycharm": {
     "name": "#%%\n"
    }
   },
   "execution_count": 98,
   "outputs": []
  },
  {
   "cell_type": "code",
   "execution_count": 99,
   "outputs": [
    {
     "data": {
      "text/plain": "<AxesSubplot:xlabel='model', ylabel='value'>"
     },
     "execution_count": 99,
     "metadata": {},
     "output_type": "execute_result"
    },
    {
     "data": {
      "text/plain": "<Figure size 1080x360 with 1 Axes>",
      "image/png": "[encoded data removed]"
     },
     "metadata": {
      "needs_background": "light"
     },
     "output_type": "display_data"
    }
   ],
   "source": [
    "models = {\"SVC\": best_svc,\"RF\": rf,\"AdaBoost\": best_ada,\"DT\": dt, \"major_class\": major_class}\n",
    "data = []\n",
    "for train_idx, test_idx in RepeatedStratifiedKFold(n_splits=10, random_state=state).split(X_scaled, y_):\n",
    "    for model_name in models.keys():\n",
    "        X_train, X_test = X_scaled[train_idx, :], X_scaled[test_idx, :]\n",
    "        y_train, y_test = y_[train_idx], y_[test_idx]\n",
    "        models[model_name].fit(X_train, y_train)\n",
    "        y_pred = models[model_name].predict(X_test)\n",
    "\n",
    "        data.append([model_name, \"accuracy\", accuracy_score(y_test, y_pred)])\n",
    "        data.append([model_name, \"f1\", f1_score(y_test, y_pred)])\n",
    "\n",
    "values = pd.DataFrame(data, columns=[\"model\", \"metric\",\"value\"])\n",
    "fig = plt.figure(figsize=(15, 5))\n",
    "sns.boxplot(data=values, x=\"model\", y=\"value\", hue=\"metric\")"
   ],
   "metadata": {
    "collapsed": false,
    "pycharm": {
     "name": "#%%\n"
    }
   }
  },
  {
   "cell_type": "markdown",
   "source": [
    "## Export als .pmml\n",
    "\n",
    "sklearn2pmml ermöglicht den Export von ganzen sklearn Pipelines. Um eine bessere performance zu erreichen, z.B. durch eine estprechende Skalierung, ist die Verwendung empfehlenswert."
   ],
   "metadata": {
    "collapsed": false,
    "pycharm": {
     "name": "#%% md\n"
    }
   }
  },
  {
   "cell_type": "code",
   "metadata": {
    "pycharm": {
     "name": "#%%\n"
    }
   },
   "source": [
    "pl = pmml.PMMLPipeline([\n",
    "    ('standardize', StandardScaler()),\n",
    "    ('clf', RandomForestClassifier())\n",
    "])\n",
    "pl.fit(X_scaled, y_)\n",
    "pmml.sklearn2pmml(pl, './pmml_file.pmml', with_repr=True)"
   ],
   "execution_count": null,
   "outputs": []
  },
  {
   "cell_type": "markdown",
   "metadata": {
    "pycharm": {
     "name": "#%% md\n"
    }
   },
   "source": [
    "## Export als js-Classifier mit sklean-porter"
   ]
  },
  {
   "cell_type": "code",
   "metadata": {
    "pycharm": {
     "name": "#%%\n"
    }
   },
   "source": [
    "rf = RandomForestClassifier()\n",
    "rf.fit(X_trimmed, y_)\n",
    "\n",
    "s = Porter(rf, language=\"js\").export(embed_data=True)\n",
    "with open(\"rf.js\", \"w\") as file:\n",
    "    file.write(s)\n",
    "    file.close()"
   ],
   "execution_count": 47,
   "outputs": [
    {
     "name": "stderr",
     "output_type": "stream",
     "text": [
      "/opt/homebrew/Caskroom/miniforge/base/envs/test/lib/python3.9/site-packages/sklearn/utils/deprecation.py:103: FutureWarning: The attribute `n_features_` is deprecated in 1.0 and will be removed in 1.2. Use `n_features_in_` instead.\n",
      "  warnings.warn(msg, category=FutureWarning)\n"
     ]
    }
   ]
  },
  {
   "cell_type": "code",
   "execution_count": 48,
   "metadata": {
    "pycharm": {
     "name": "#%%\n"
    }
   },
   "outputs": [
    {
     "name": "stderr",
     "output_type": "stream",
     "text": [
      "/opt/homebrew/Caskroom/miniforge/base/envs/test/lib/python3.9/site-packages/sklearn/utils/deprecation.py:103: FutureWarning: The attribute `n_features_` is deprecated in 1.0 and will be removed in 1.2. Use `n_features_in_` instead.\n",
      "  warnings.warn(msg, category=FutureWarning)\n"
     ]
    }
   ],
   "source": [
    "dt = DecisionTreeClassifier()\n",
    "dt.fit(X_trimmed, y_)\n",
    "\n",
    "s = Porter(dt, language=\"js\").export(embed_data=True)\n",
    "with open(\"dt.js\", \"w\") as file:\n",
    "    file.write(s)\n",
    "    file.close()"
   ]
  }
 ],
 "metadata": {
  "kernelspec": {
   "display_name": "Python 3 (ipykernel)",
   "language": "python",
   "name": "python3"
  },
  "language_info": {
   "codemirror_mode": {
    "name": "ipython",
    "version": 3
   },
   "file_extension": ".py",
   "mimetype": "text/x-python",
   "name": "python",
   "nbconvert_exporter": "python",
   "pygments_lexer": "ipython3",
   "version": "3.9.7"
  }
 },
 "nbformat": 4,
 "nbformat_minor": 1
}